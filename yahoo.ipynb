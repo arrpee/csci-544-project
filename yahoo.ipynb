{
 "cells": [
  {
   "cell_type": "code",
   "execution_count": 1,
   "metadata": {},
   "outputs": [],
   "source": [
    "import string\n",
    "\n",
    "import matplotlib.pyplot as plt\n",
    "import nltk\n",
    "import numpy as np\n",
    "import pandas as pd\n",
    "\n",
    "nltk.download(\"punkt\", quiet=True)\n",
    "\n",
    "from sumy.nlp.stemmers import Stemmer\n",
    "from sumy.nlp.tokenizers import Tokenizer\n",
    "from sumy.parsers.plaintext import PlaintextParser\n",
    "from sumy.summarizers.lex_rank import LexRankSummarizer\n",
    "from sumy.summarizers.lsa import LsaSummarizer\n",
    "from sumy.summarizers.luhn import LuhnSummarizer\n",
    "from sumy.utils import get_stop_words\n",
    "\n",
    "pd.set_option(\"display.max_rows\", 50)\n",
    "pd.set_option(\"display.max_columns\", 50)\n",
    "pd.set_option(\"display.max_colwidth\", 1000)\n"
   ]
  },
  {
   "cell_type": "code",
   "execution_count": 2,
   "metadata": {},
   "outputs": [],
   "source": [
    "yahoo_df = pd.read_csv(\n",
    "    \"data/yahoo-news-annotated-comments-dataset/ydata-ynacc-v1_0_expert_annotations.tsv\",\n",
    "    sep=\"\\t\",\n",
    ")\n"
   ]
  },
  {
   "cell_type": "code",
   "execution_count": 3,
   "metadata": {},
   "outputs": [],
   "source": [
    "def get_comment_thread(row: pd.Series) -> str:\n",
    "    if row[\"text\"][-1] not in string.punctuation:\n",
    "        row[\"text\"] += \".\"\n",
    "\n",
    "    if row[\"commentindex\"] != 0:\n",
    "        parent_df = yahoo_df[yahoo_df.commentid == row[\"parentid\"]]\n",
    "        if parent_df.shape[0] == 0:\n",
    "            return row[\"text\"]\n",
    "        else:\n",
    "            return f\"{parent_df.iloc[0].thread} {row['text']}\"\n",
    "    else:\n",
    "        return row[\"text\"]\n",
    "\n",
    "\n",
    "yahoo_df = yahoo_df.sort_values(by=[\"commentindex\"])\n",
    "yahoo_df[\"thread\"] = \"\"\n",
    "for index, row in yahoo_df.iterrows():\n",
    "    yahoo_df.at[index, \"thread\"] = get_comment_thread(row)\n"
   ]
  },
  {
   "cell_type": "code",
   "execution_count": 6,
   "metadata": {},
   "outputs": [],
   "source": [
    "LANGUAGE = \"english\"\n",
    "NUM_SENTENCES = 3\n",
    "\n",
    "tokenizer = Tokenizer(LANGUAGE)\n",
    "stemmer = Stemmer(LANGUAGE)\n",
    "summarizer = LuhnSummarizer(stemmer)\n",
    "summarizer.stop_words = get_stop_words(LANGUAGE)\n",
    "\n",
    "\n",
    "def summarize_thread(row: pd.Series) -> str:\n",
    "    if not row[\"thread\"]:\n",
    "        return \"\"\n",
    "    parser = PlaintextParser.from_string(row[\"thread\"], tokenizer)\n",
    "    return \"\".join([x._text for x in summarizer(parser.document, NUM_SENTENCES)])\n",
    "\n",
    "\n",
    "yahoo_df[\"summary\"] = yahoo_df.apply(summarize_thread, axis=1)\n"
   ]
  },
  {
   "cell_type": "code",
   "execution_count": null,
   "metadata": {},
   "outputs": [],
   "source": []
  }
 ],
 "metadata": {
  "kernelspec": {
   "display_name": "Python 3.10.7 ('venv': venv)",
   "language": "python",
   "name": "python3"
  },
  "language_info": {
   "codemirror_mode": {
    "name": "ipython",
    "version": 3
   },
   "file_extension": ".py",
   "mimetype": "text/x-python",
   "name": "python",
   "nbconvert_exporter": "python",
   "pygments_lexer": "ipython3",
   "version": "3.10.7"
  },
  "orig_nbformat": 4,
  "vscode": {
   "interpreter": {
    "hash": "1fce3f33274e5da354ee51a1f13b514a1195d394c6831008ceaf2ec8369c9243"
   }
  }
 },
 "nbformat": 4,
 "nbformat_minor": 2
}
